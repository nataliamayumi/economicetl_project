{
 "cells": [
  {
   "cell_type": "code",
   "execution_count": 5,
   "metadata": {},
   "outputs": [],
   "source": [
    "import pandas as pd\n",
    "import sys\n",
    "import os\n",
    "import matplotlib.pyplot as plt\n",
    "\n",
    "# Get the current directory path:\n",
    "notebook_dir = os.path.abspath('')\n",
    "\n",
    "# Construct the path to the data directory:\n",
    "data_dir = os.path.join(notebook_dir, '../src/data')\n",
    "\n",
    "# Add the data directory path to the system path:\n",
    "sys.path.append(data_dir)\n",
    "\n",
    "# Import the feature-building module:\n",
    "import build_features\n"
   ]
  },
  {
   "cell_type": "code",
   "execution_count": 6,
   "metadata": {},
   "outputs": [
    {
     "ename": "NameError",
     "evalue": "name 'coleta_dados_sidra' is not defined",
     "output_type": "error",
     "traceback": [
      "\u001b[31m---------------------------------------------------------------------------\u001b[39m",
      "\u001b[31mNameError\u001b[39m                                 Traceback (most recent call last)",
      "\u001b[36mCell\u001b[39m\u001b[36m \u001b[39m\u001b[32mIn[6]\u001b[39m\u001b[32m, line 1\u001b[39m\n\u001b[32m----> \u001b[39m\u001b[32m1\u001b[39m df = \u001b[43mbuild_features\u001b[49m\u001b[43m.\u001b[49m\u001b[43mproject_gdp_features\u001b[49m\u001b[43m(\u001b[49m\u001b[43mpath_data\u001b[49m\u001b[43m=\u001b[49m\u001b[33;43m'\u001b[39;49m\u001b[33;43m../data\u001b[39;49m\u001b[33;43m'\u001b[39;49m\u001b[43m)\u001b[49m\n",
      "\u001b[36mFile \u001b[39m\u001b[32mc:\\Users\\natalia-zuccalmaglio\\Documents\\GitHub\\economicetl_project\\notebooks\\../src/data\\build_features.py:22\u001b[39m, in \u001b[36mproject_gdp_features\u001b[39m\u001b[34m(path_data)\u001b[39m\n\u001b[32m     11\u001b[39m \u001b[38;5;250m\u001b[39m\u001b[33;03m\"\"\"\u001b[39;00m\n\u001b[32m     12\u001b[39m \u001b[33;03mProjects quarterly GDP index values based on expected year-over-year changes released by the Central Bank of Brazil.\u001b[39;00m\n\u001b[32m     13\u001b[39m \n\u001b[32m   (...)\u001b[39m\u001b[32m     19\u001b[39m \u001b[33;03m- Combined DataFrame with projected GDP index values.\u001b[39;00m\n\u001b[32m     20\u001b[39m \u001b[33;03m\"\"\"\u001b[39;00m\n\u001b[32m     21\u001b[39m \u001b[38;5;66;03m# Load observed and expectations datasets\u001b[39;00m\n\u001b[32m---> \u001b[39m\u001b[32m22\u001b[39m df_obs = extract_data_sidra.get_ibge_gdp(path_data)\n\u001b[32m     23\u001b[39m df_exp = extract_data_bacen.get_focus_gdp(path_data)\n\u001b[32m     24\u001b[39m df_obs = df_obs[df_obs.index > \u001b[33m'\u001b[39m\u001b[33m2013-12-01\u001b[39m\u001b[33m'\u001b[39m]  \u001b[38;5;66;03m# Filter data starting from 2014\u001b[39;00m\n",
      "\u001b[31mNameError\u001b[39m: name 'coleta_dados_sidra' is not defined"
     ]
    }
   ],
   "source": [
    "df = build_features.project_gdp_features(path_data='../data')"
   ]
  }
 ],
 "metadata": {
  "kernelspec": {
   "display_name": ".venv",
   "language": "python",
   "name": "python3"
  },
  "language_info": {
   "codemirror_mode": {
    "name": "ipython",
    "version": 3
   },
   "file_extension": ".py",
   "mimetype": "text/x-python",
   "name": "python",
   "nbconvert_exporter": "python",
   "pygments_lexer": "ipython3",
   "version": "3.12.8"
  }
 },
 "nbformat": 4,
 "nbformat_minor": 2
}
