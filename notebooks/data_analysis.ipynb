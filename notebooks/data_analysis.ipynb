{
 "cells": [
  {
   "cell_type": "code",
   "execution_count": null,
   "metadata": {},
   "outputs": [],
   "source": [
    "import pandas as pd\n",
    "import sys\n",
    "import os\n",
    "import matplotlib.pyplot as plt\n",
    "import ipywidgets as widgets\n",
    "import seaborn as sns\n",
    "\n",
    "# Get the current directory path:\n",
    "notebook_dir = os.path.abspath('')\n",
    "\n",
    "# Construct the path to the data directory:\n",
    "data_dir = os.path.join(notebook_dir, '../src/data')\n",
    "\n",
    "# Add the data directory path to the system path:\n",
    "sys.path.append(data_dir)\n",
    "\n",
    "# Import the feature-building module:\n",
    "import build_features\n"
   ]
  },
  {
   "cell_type": "code",
   "execution_count": null,
   "metadata": {},
   "outputs": [],
   "source": []
  }
 ],
 "metadata": {
  "language_info": {
   "name": "python"
  }
 },
 "nbformat": 4,
 "nbformat_minor": 2
}
